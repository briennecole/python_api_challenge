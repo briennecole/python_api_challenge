{
 "cells": [
  {
   "cell_type": "code",
   "execution_count": 1,
   "id": "electoral-virginia",
   "metadata": {},
   "outputs": [],
   "source": [
    "# Dependencies and Setup\n",
    "import matplotlib.pyplot as plt\n",
    "import pandas as pd\n",
    "import numpy as np\n",
    "import requests\n",
    "import gmaps\n",
    "import os\n",
    "\n",
    "# Import API key\n",
    "from config import g_key"
   ]
  },
  {
   "cell_type": "code",
   "execution_count": 2,
   "id": "checked-bruce",
   "metadata": {},
   "outputs": [
    {
     "data": {
      "text/html": [
       "<div>\n",
       "<style scoped>\n",
       "    .dataframe tbody tr th:only-of-type {\n",
       "        vertical-align: middle;\n",
       "    }\n",
       "\n",
       "    .dataframe tbody tr th {\n",
       "        vertical-align: top;\n",
       "    }\n",
       "\n",
       "    .dataframe thead th {\n",
       "        text-align: right;\n",
       "    }\n",
       "</style>\n",
       "<table border=\"1\" class=\"dataframe\">\n",
       "  <thead>\n",
       "    <tr style=\"text-align: right;\">\n",
       "      <th></th>\n",
       "      <th>Unnamed: 0</th>\n",
       "      <th>City</th>\n",
       "      <th>Country</th>\n",
       "      <th>Date</th>\n",
       "      <th>Latitude</th>\n",
       "      <th>Longitude</th>\n",
       "      <th>Max Temp (F)</th>\n",
       "      <th>Humidity (%)</th>\n",
       "      <th>Cloudiness (%)</th>\n",
       "      <th>Wind Speed (mph)</th>\n",
       "    </tr>\n",
       "  </thead>\n",
       "  <tbody>\n",
       "    <tr>\n",
       "      <th>0</th>\n",
       "      <td>0</td>\n",
       "      <td>hokitika</td>\n",
       "      <td>RU</td>\n",
       "      <td>1612650287</td>\n",
       "      <td>67.4667</td>\n",
       "      <td>78.7000</td>\n",
       "      <td>-26.70</td>\n",
       "      <td>86</td>\n",
       "      <td>65</td>\n",
       "      <td>9.66</td>\n",
       "    </tr>\n",
       "    <tr>\n",
       "      <th>1</th>\n",
       "      <td>1</td>\n",
       "      <td>hokitika</td>\n",
       "      <td>ID</td>\n",
       "      <td>1612650288</td>\n",
       "      <td>-5.3166</td>\n",
       "      <td>119.3661</td>\n",
       "      <td>71.60</td>\n",
       "      <td>100</td>\n",
       "      <td>20</td>\n",
       "      <td>2.30</td>\n",
       "    </tr>\n",
       "    <tr>\n",
       "      <th>2</th>\n",
       "      <td>2</td>\n",
       "      <td>hokitika</td>\n",
       "      <td>RU</td>\n",
       "      <td>1612650288</td>\n",
       "      <td>69.3833</td>\n",
       "      <td>178.4167</td>\n",
       "      <td>-12.08</td>\n",
       "      <td>75</td>\n",
       "      <td>32</td>\n",
       "      <td>6.08</td>\n",
       "    </tr>\n",
       "    <tr>\n",
       "      <th>3</th>\n",
       "      <td>3</td>\n",
       "      <td>hokitika</td>\n",
       "      <td>JP</td>\n",
       "      <td>1612650288</td>\n",
       "      <td>33.7333</td>\n",
       "      <td>135.9833</td>\n",
       "      <td>43.39</td>\n",
       "      <td>79</td>\n",
       "      <td>0</td>\n",
       "      <td>7.07</td>\n",
       "    </tr>\n",
       "    <tr>\n",
       "      <th>4</th>\n",
       "      <td>4</td>\n",
       "      <td>hokitika</td>\n",
       "      <td>ID</td>\n",
       "      <td>1612650288</td>\n",
       "      <td>-0.9492</td>\n",
       "      <td>100.3543</td>\n",
       "      <td>71.60</td>\n",
       "      <td>94</td>\n",
       "      <td>20</td>\n",
       "      <td>1.14</td>\n",
       "    </tr>\n",
       "  </tbody>\n",
       "</table>\n",
       "</div>"
      ],
      "text/plain": [
       "   Unnamed: 0      City Country        Date  Latitude  Longitude  \\\n",
       "0           0  hokitika      RU  1612650287   67.4667    78.7000   \n",
       "1           1  hokitika      ID  1612650288   -5.3166   119.3661   \n",
       "2           2  hokitika      RU  1612650288   69.3833   178.4167   \n",
       "3           3  hokitika      JP  1612650288   33.7333   135.9833   \n",
       "4           4  hokitika      ID  1612650288   -0.9492   100.3543   \n",
       "\n",
       "   Max Temp (F)  Humidity (%)  Cloudiness (%)  Wind Speed (mph)  \n",
       "0        -26.70            86              65              9.66  \n",
       "1         71.60           100              20              2.30  \n",
       "2        -12.08            75              32              6.08  \n",
       "3         43.39            79               0              7.07  \n",
       "4         71.60            94              20              1.14  "
      ]
     },
     "execution_count": 2,
     "metadata": {},
     "output_type": "execute_result"
    }
   ],
   "source": [
    "#Store Part I results into DataFrame\n",
    "#Load the csv exported in Part I to a DataFrame\n",
    "weather_data = pd.read_csv('../WeatherPy/Output_Data/output_cities.csv')\n",
    "weather_data.head()"
   ]
  },
  {
   "cell_type": "markdown",
   "id": "military-tablet",
   "metadata": {},
   "source": [
    "## Humidity Heatmap"
   ]
  },
  {
   "cell_type": "code",
   "execution_count": 30,
   "id": "ultimate-dragon",
   "metadata": {},
   "outputs": [
    {
     "data": {
      "application/vnd.jupyter.widget-view+json": {
       "model_id": "3aecb8e2701045198d09f6eab53435bb",
       "version_major": 2,
       "version_minor": 0
      },
      "text/plain": [
       "Figure(layout=FigureLayout(height='420px'))"
      ]
     },
     "metadata": {},
     "output_type": "display_data"
    }
   ],
   "source": [
    "# Configure gmaps.\n",
    "gmaps.configure(api_key=g_key)\n",
    "\n",
    "# Use the Lat and Lng as locations and Humidity as the weight.\n",
    "locations = weather_data[[\"Latitude\", \"Longitude\"]].astype(float)\n",
    "humidity = weather_data[\"Humidity (%)\"].astype(float)\n",
    "\n",
    "# Add Heatmap layer to map\n",
    "fig = gmaps.figure(zoom_level=2, center=(20,0))\n",
    "\n",
    "heat_layer = gmaps.heatmap_layer(locations, weights=humidity, dissipating=False, max_intensity=100, point_radius=3)\n",
    "\n",
    "fig.add_layer(heat_layer)\n",
    "fig"
   ]
  },
  {
   "cell_type": "code",
   "execution_count": null,
   "id": "ambient-addition",
   "metadata": {},
   "outputs": [],
   "source": []
  }
 ],
 "metadata": {
  "kernelspec": {
   "display_name": "Python 3",
   "language": "python",
   "name": "python3"
  },
  "language_info": {
   "codemirror_mode": {
    "name": "ipython",
    "version": 3
   },
   "file_extension": ".py",
   "mimetype": "text/x-python",
   "name": "python",
   "nbconvert_exporter": "python",
   "pygments_lexer": "ipython3",
   "version": "3.6.10"
  }
 },
 "nbformat": 4,
 "nbformat_minor": 5
}
